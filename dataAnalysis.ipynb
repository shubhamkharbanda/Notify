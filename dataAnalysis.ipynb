{
 "cells": [
  {
   "cell_type": "code",
   "execution_count": 1,
   "metadata": {},
   "outputs": [],
   "source": [
    "import pymongo \n",
    "import numpy as np\n",
    "import seaborn as sns\n",
    "import matplotlib.pyplot as plt\n",
    "from pymongo import MongoClient\n"
   ]
  },
  {
   "cell_type": "code",
   "execution_count": 2,
   "metadata": {},
   "outputs": [],
   "source": [
    "connection=MongoClient('localhost',27017)\n",
    "data=connection.inotebook\n",
    "\n",
    "\n"
   ]
  },
  {
   "cell_type": "code",
   "execution_count": 3,
   "metadata": {},
   "outputs": [],
   "source": [
    "datal=data.notes.find()\n",
    "\n",
    "\n"
   ]
  },
  {
   "cell_type": "code",
   "execution_count": 4,
   "metadata": {},
   "outputs": [],
   "source": [
    "import pandas as pd"
   ]
  },
  {
   "cell_type": "code",
   "execution_count": null,
   "metadata": {},
   "outputs": [],
   "source": []
  },
  {
   "cell_type": "code",
   "execution_count": 5,
   "metadata": {},
   "outputs": [],
   "source": [
    "df=pd.DataFrame(list(datal))\n"
   ]
  },
  {
   "cell_type": "code",
   "execution_count": 6,
   "metadata": {},
   "outputs": [
    {
     "data": {
      "text/html": [
       "<div>\n",
       "<style scoped>\n",
       "    .dataframe tbody tr th:only-of-type {\n",
       "        vertical-align: middle;\n",
       "    }\n",
       "\n",
       "    .dataframe tbody tr th {\n",
       "        vertical-align: top;\n",
       "    }\n",
       "\n",
       "    .dataframe thead th {\n",
       "        text-align: right;\n",
       "    }\n",
       "</style>\n",
       "<table border=\"1\" class=\"dataframe\">\n",
       "  <thead>\n",
       "    <tr style=\"text-align: right;\">\n",
       "      <th></th>\n",
       "      <th>_id</th>\n",
       "      <th>user</th>\n",
       "      <th>title</th>\n",
       "      <th>description</th>\n",
       "      <th>tag</th>\n",
       "      <th>date</th>\n",
       "      <th>__v</th>\n",
       "    </tr>\n",
       "  </thead>\n",
       "  <tbody>\n",
       "    <tr>\n",
       "      <th>0</th>\n",
       "      <td>61fb491c3a3c9fd9fc092eae</td>\n",
       "      <td>61f3da0dbcfa79e43d920b89</td>\n",
       "      <td>satyam123</td>\n",
       "      <td>going to office</td>\n",
       "      <td>thankyou</td>\n",
       "      <td>2022-02-03 03:16:44.332</td>\n",
       "      <td>0</td>\n",
       "    </tr>\n",
       "    <tr>\n",
       "      <th>1</th>\n",
       "      <td>61fb497e3a3c9fd9fc092eb2</td>\n",
       "      <td>61fb489f3a3c9fd9fc092ea8</td>\n",
       "      <td>Shubham Kharbanda</td>\n",
       "      <td>Amazon SDE-1</td>\n",
       "      <td>AMAZON</td>\n",
       "      <td>2022-02-03 03:18:22.490</td>\n",
       "      <td>0</td>\n",
       "    </tr>\n",
       "    <tr>\n",
       "      <th>2</th>\n",
       "      <td>61fe7f3f863c7367b490bf16</td>\n",
       "      <td>61fb489f3a3c9fd9fc092ea8</td>\n",
       "      <td>Satyam Kharbanda</td>\n",
       "      <td>Going to Galaxy Card</td>\n",
       "      <td>bsjnbsjkbjknsks</td>\n",
       "      <td>2022-02-05 13:44:31.263</td>\n",
       "      <td>0</td>\n",
       "    </tr>\n",
       "  </tbody>\n",
       "</table>\n",
       "</div>"
      ],
      "text/plain": [
       "                        _id                      user              title  \\\n",
       "0  61fb491c3a3c9fd9fc092eae  61f3da0dbcfa79e43d920b89          satyam123   \n",
       "1  61fb497e3a3c9fd9fc092eb2  61fb489f3a3c9fd9fc092ea8  Shubham Kharbanda   \n",
       "2  61fe7f3f863c7367b490bf16  61fb489f3a3c9fd9fc092ea8   Satyam Kharbanda   \n",
       "\n",
       "            description              tag                    date  __v  \n",
       "0       going to office         thankyou 2022-02-03 03:16:44.332    0  \n",
       "1          Amazon SDE-1           AMAZON 2022-02-03 03:18:22.490    0  \n",
       "2  Going to Galaxy Card  bsjnbsjkbjknsks 2022-02-05 13:44:31.263    0  "
      ]
     },
     "execution_count": 6,
     "metadata": {},
     "output_type": "execute_result"
    }
   ],
   "source": [
    "df"
   ]
  },
  {
   "cell_type": "code",
   "execution_count": 7,
   "metadata": {},
   "outputs": [
    {
     "data": {
      "text/plain": [
       "array([ObjectId('61f3da0dbcfa79e43d920b89'),\n",
       "       ObjectId('61fb489f3a3c9fd9fc092ea8')], dtype=object)"
      ]
     },
     "execution_count": 7,
     "metadata": {},
     "output_type": "execute_result"
    }
   ],
   "source": [
    "df['no_Notes']=1\n",
    "user=df['user'].unique()\n",
    "user"
   ]
  },
  {
   "cell_type": "code",
   "execution_count": 8,
   "metadata": {},
   "outputs": [
    {
     "data": {
      "text/html": [
       "<div>\n",
       "<style scoped>\n",
       "    .dataframe tbody tr th:only-of-type {\n",
       "        vertical-align: middle;\n",
       "    }\n",
       "\n",
       "    .dataframe tbody tr th {\n",
       "        vertical-align: top;\n",
       "    }\n",
       "\n",
       "    .dataframe thead th {\n",
       "        text-align: right;\n",
       "    }\n",
       "</style>\n",
       "<table border=\"1\" class=\"dataframe\">\n",
       "  <thead>\n",
       "    <tr style=\"text-align: right;\">\n",
       "      <th></th>\n",
       "      <th>__v</th>\n",
       "      <th>no_Notes</th>\n",
       "      <th>users</th>\n",
       "    </tr>\n",
       "    <tr>\n",
       "      <th>user</th>\n",
       "      <th></th>\n",
       "      <th></th>\n",
       "      <th></th>\n",
       "    </tr>\n",
       "  </thead>\n",
       "  <tbody>\n",
       "    <tr>\n",
       "      <th>61f3da0dbcfa79e43d920b89</th>\n",
       "      <td>0</td>\n",
       "      <td>1</td>\n",
       "      <td>61f3da0dbcfa79e43d920b89</td>\n",
       "    </tr>\n",
       "    <tr>\n",
       "      <th>61fb489f3a3c9fd9fc092ea8</th>\n",
       "      <td>0</td>\n",
       "      <td>2</td>\n",
       "      <td>61fb489f3a3c9fd9fc092ea8</td>\n",
       "    </tr>\n",
       "  </tbody>\n",
       "</table>\n",
       "</div>"
      ],
      "text/plain": [
       "                          __v  no_Notes                     users\n",
       "user                                                             \n",
       "61f3da0dbcfa79e43d920b89    0         1  61f3da0dbcfa79e43d920b89\n",
       "61fb489f3a3c9fd9fc092ea8    0         2  61fb489f3a3c9fd9fc092ea8"
      ]
     },
     "execution_count": 8,
     "metadata": {},
     "output_type": "execute_result"
    }
   ],
   "source": [
    "dfs=df.groupby('user').sum('no_Notes')\n",
    "\n",
    "\n",
    "\n",
    "dfs['users']=user\n",
    "dfs"
   ]
  },
  {
   "cell_type": "code",
   "execution_count": 9,
   "metadata": {},
   "outputs": [
    {
     "data": {
      "text/plain": [
       "<AxesSubplot:xlabel='users', ylabel='no_Notes'>"
      ]
     },
     "execution_count": 9,
     "metadata": {},
     "output_type": "execute_result"
    },
    {
     "data": {
      "image/png": "[encoded data removed]",
      "text/plain": [
       "<Figure size 432x288 with 1 Axes>"
      ]
     },
     "metadata": {
      "needs_background": "light"
     },
     "output_type": "display_data"
    }
   ],
   "source": [
    "sns.barplot(x=dfs['users'],y=dfs['no_Notes'])"
   ]
  },
  {
   "cell_type": "code",
   "execution_count": null,
   "metadata": {},
   "outputs": [],
   "source": []
  },
  {
   "cell_type": "code",
   "execution_count": null,
   "metadata": {},
   "outputs": [],
   "source": []
  },
  {
   "cell_type": "code",
   "execution_count": null,
   "metadata": {},
   "outputs": [],
   "source": []
  }
 ],
 "metadata": {
  "interpreter": {
   "hash": "b89b5cfaba6639976dc87ff2fec6d58faec662063367e2c229c520fe71072417"
  },
  "kernelspec": {
   "display_name": "Python 3.10.0 64-bit",
   "language": "python",
   "name": "python3"
  },
  "language_info": {
   "codemirror_mode": {
    "name": "ipython",
    "version": 3
   },
   "file_extension": ".py",
   "mimetype": "text/x-python",
   "name": "python",
   "nbconvert_exporter": "python",
   "pygments_lexer": "ipython3",
   "version": "3.10.0"
  },
  "orig_nbformat": 4
 },
 "nbformat": 4,
 "nbformat_minor": 2
}
